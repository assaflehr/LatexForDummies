{
 "cells": [
  {
   "cell_type": "markdown",
   "metadata": {},
   "source": [
    "# Latex\n",
    "Latex is not that hard, once you learn principles, and few tricks with Sigma and matrices.\n",
    "\n",
    "I`ll describe some basics here. \n",
    "\n",
    "You can also check this online demo for hand-writing-to-Latext, here: http://webdemo.myscript.com/views/math.html\n",
    "\n",
    "For more, read the docs: http://texdoc.net/texmf-dist/doc/latex/lshort-english/lshort.pdf.  Math start at page 53"
   ]
  },
  {
   "cell_type": "markdown",
   "metadata": {},
   "source": [
    "## basic formatting\n",
    "\n",
    "You can also inline equation (called \"text-style\") by wrapping it with \\$ on both sides.  $e= m*c^2$ was written as \\$ e= m*c^2 \\$ \n",
    "\n",
    "\n",
    "You can write an equation in the middle of the page, called \"design-style\" (see source). \n",
    "\n",
    "\\begin{equation}\n",
    "e= m*c^2\n",
    "\\end{equation}\n",
    "\n",
    "\n",
    "Inside math equations, spaces are ignored, and line-break is illegal. \n",
    "If you want to add a spaces/tab inside equation, use   $\\text{\\qquad} \\qquad \\text{\\quad} \\quad \\text{\\ }\\ .  $\n",
    "<br>If you want to line-break between two equations inside the same begin{equation} block , use $\\text{\\\\\\\\}$. You can also use two seperate equations written with $ syntax, and leave an empty line between the two.\n",
    "\n",
    "If you want to add text inside math, use the \\text{...}, like: $e= m\\ \\text{(non-math-text)}\\ *c^2 $\n",
    "\n",
    "\n"
   ]
  },
  {
   "cell_type": "markdown",
   "metadata": {},
   "source": [
    "### Basic math\n",
    "\n",
    "\n",
    "superscript is x^2 (for one digit) or x^{12} (for multiple)  , subscript is x_2 or x_{12}.  Same syntax is used for other command like \\sum_{k=1}^n   \n",
    "remember to use {...} if you want to parameter to the command to include  multiple digits.\n",
    "\n",
    "$ x^2 \\qquad x^{12} \\qquad x_2 \\qquad  x_{12} \\qquad \\sum_{k=1}^n $\n",
    "\n",
    "and let's complete this with sqrt $\\sqrt 2 \\quad \\sqrt{x^2+y^2}$\n",
    "\n",
    "fractions: <br>\n",
    "In inline(text) mode, the fraction will always be tiny $\\frac{1}{k} $  In this case the lower frac is NOT subscript <b>\\frac{1}{k}</b>\n",
    "<br>In design mode, by default it's bigger. you can make it as tiny as in the text mode with \\tfrac\n",
    "\\begin{equation}\n",
    "\\frac{1}{k} \\quad \\tfrac{1}{k} \n",
    "\\end{equation}\n",
    "\n",
    "\n",
    "\n",
    "\n",
    "Greater-than , Greater-Equals = t , geq.\n",
    "equals is just =  , Not-Equals is \\neq\n",
    "\n",
    "$x \\geq 0 \\qquad x \\lt 0\\qquad x = 0  \\qquad x\\neq0$\n",
    "\n",
    "Greek letters: Use their names as command, like \\lambda  $\\lambda$ and friends $\\pi,\\theta,\\mu,\\Omega,\\Delta$\n",
    "\n",
    "Let's see some symbolic math $\\sum_{k=1}^n \\frac{1}{k^2}= \\frac{\\pi^2}{6}$\n",
    "\n",
    "\\sum_{k=1}^n  :  $\\sum_{k=1}^n$\n",
    "\n",
    "\\frac_{1}{k} :  $\\frac{1}{k} $  \n",
    "\n",
    "\\pi^{10}: $\\pi^{10}$  \n",
    "\n",
    "\n"
   ]
  },
  {
   "cell_type": "markdown",
   "metadata": {},
   "source": [
    "### matrices\n",
    "\n",
    "bmatrix is the regular one $\\quad \\begin{bmatrix} a & b \\\\ c & d \\end{bmatrix}$\n",
    "\n",
    "matrix will have no braces, vmatrix is for norm $\\quad \\begin{vmatrix} a & b \\\\ c & d \\end{vmatrix}$\n",
    "\n",
    "3 dots can be to horizontal <b>\\ldots</b> , vertical <b>\\vdots</b> or diagonal <b>\\ddots </b>\n",
    "$ \\quad\n",
    "\\begin{bmatrix}\n",
    "p_{11} & p_{12} & \\ldots\n",
    "& p_{1n} \\\\\n",
    "p_{21} & p_{22} & \\ldots\n",
    "& p_{2n} \\\\\n",
    "\\vdots & \\vdots & \\ddots\n",
    "& \\vdots \\\\\n",
    "p_{m1} & p_{m2} & \\ldots\n",
    "& p_{mn}\n",
    "\\end{bmatrix}\n",
    "$"
   ]
  },
  {
   "cell_type": "markdown",
   "metadata": {},
   "source": [
    "## more stuff\n",
    "factorial is trivial $x!$\n",
    "\n",
    "dot is \\cdot : $a \\cdot b$\n",
    "\n",
    "$\\text{less cool:}\\qquad x\\in \\mathbf{R}$\n",
    "\n",
    "$\\text{cool font:}\\qquad x\\in \\mathbb{R}$ \n"
   ]
  },
  {
   "cell_type": "markdown",
   "metadata": {},
   "source": []
  },
  {
   "cell_type": "markdown",
   "metadata": {},
   "source": [
    "### Logic\n",
    "comlement of x is $\\overline{x}$  written as \\overline{x} \n",
    "\n",
    "\\bar looks like $\\bar{x}$\n",
    "\n",
    "$\\begin{equation*}\n",
    "\\sum^n_{\\substack{0<i<n \\\\\n",
    "j\\subseteq i}}\n",
    "P(i,j) = Q(i,j)\n",
    "\\end{equation*}\n",
    "$\n",
    "\n",
    "\n",
    "\n"
   ]
  }
 ],
 "metadata": {
  "anaconda-cloud": {},
  "kernelspec": {
   "display_name": "Python [conda root]",
   "language": "python",
   "name": "conda-root-py"
  },
  "language_info": {
   "codemirror_mode": {
    "name": "ipython",
    "version": 2
   },
   "file_extension": ".py",
   "mimetype": "text/x-python",
   "name": "python",
   "nbconvert_exporter": "python",
   "pygments_lexer": "ipython2",
   "version": "2.7.12"
  },
  "nav_menu": {},
  "toc": {
   "navigate_menu": true,
   "number_sections": true,
   "sideBar": true,
   "threshold": 6,
   "toc_cell": false,
   "toc_section_display": "block",
   "toc_window_display": false
  }
 },
 "nbformat": 4,
 "nbformat_minor": 1
}
